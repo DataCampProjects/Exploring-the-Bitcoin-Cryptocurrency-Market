{
 "cells": [
  {
   "cell_type": "markdown",
   "id": "3a64f258",
   "metadata": {},
   "source": [
    "# DATACAMP PROJECT"
   ]
  },
  {
   "attachments": {},
   "cell_type": "markdown",
   "id": "ba27934a",
   "metadata": {},
   "source": [
    "## Bitcoin and Cryptocurrencies: Full dataset, filtering, and reproducibility\n",
    "<p>Since the <a href=\"https://newfronttest.bitcoin.com/bitcoin.pdf\">launch of Bitcoin in 2008</a>, hundreds of similar projects based on the blockchain technology have emerged. We call these cryptocurrencies (also coins or cryptos in the Internet slang). \n",
    "    \n",
    "Some are extremely valuable nowadays, and others may have the potential to become extremely valuable in the future<sup>1</sup>. In fact, on the 23rd of March of 2022, Bitcoin has a <a href=\"https://en.wikipedia.org/wiki/Market_capitalization\">market capitalization</a> above $800 billion. </p>\n",
    "<p><center>\n",
    "\n",
    "<img src=\"btc.png\"> <br> \n",
    "<em>The astonishing increase of Bitcoin market capitalization in 2021.</em></center></p>\n",
    "<p><sup>1</sup> <strong>WARNING</strong>: The cryptocurrency market is exceptionally volatile<sup>2</sup> and any money you put in might disappear into thin air.  Cryptocurrencies mentioned here <strong>might be scams</strong> similar to <a href=\"https://en.wikipedia.org/wiki/Ponzi_scheme\">Ponzi Schemes</a> or have many other issues (overvaluation, technical, etc.). <strong>Please do not mistake this for investment advice</strong>. </p>\n",
    "<p><em><sup>2</sup> <strong>Update on March 2020</strong>: Well, it turned out to be volatile indeed :D</em></p>\n",
    "<p>That said, let's get to business. We will start with a CSV we conveniently downloaded on the 23rd of March of 2022 from coinmarketcap. </code></p>"
   ]
  },
  {
   "cell_type": "markdown",
   "id": "327e19dc",
   "metadata": {},
   "source": [
    "*Note: The original dataset used in this guided project is from 2017. I downloaded an updated version of the dataset to present the updated analysis*\n",
    "\n"
   ]
  },
  {
   "cell_type": "markdown",
   "id": "139a6b3d",
   "metadata": {},
   "source": [
    "#### Importing Libraries"
   ]
  },
  {
   "cell_type": "code",
   "execution_count": 1,
   "id": "28c3cb74",
   "metadata": {},
   "outputs": [],
   "source": [
    "import pandas as pd\n",
    "pd.options.display.float_format = '{:20,.5f}'.format\n",
    "\n",
    "import matplotlib.pyplot as plt"
   ]
  },
  {
   "cell_type": "markdown",
   "id": "382413de",
   "metadata": {},
   "source": [
    "#### Loading Dataset"
   ]
  },
  {
   "cell_type": "code",
   "execution_count": 2,
   "id": "8f998985",
   "metadata": {
    "scrolled": true
   },
   "outputs": [
    {
     "data": {
      "text/html": [
       "<div>\n",
       "<style scoped>\n",
       "    .dataframe tbody tr th:only-of-type {\n",
       "        vertical-align: middle;\n",
       "    }\n",
       "\n",
       "    .dataframe tbody tr th {\n",
       "        vertical-align: top;\n",
       "    }\n",
       "\n",
       "    .dataframe thead th {\n",
       "        text-align: right;\n",
       "    }\n",
       "</style>\n",
       "<table border=\"1\" class=\"dataframe\">\n",
       "  <thead>\n",
       "    <tr style=\"text-align: right;\">\n",
       "      <th></th>\n",
       "      <th>Rank</th>\n",
       "      <th>Name</th>\n",
       "      <th>Market Cap</th>\n",
       "      <th>Price</th>\n",
       "      <th>Circulating Supply</th>\n",
       "      <th>Volume (24h)</th>\n",
       "      <th>% 1h</th>\n",
       "      <th>% 24h</th>\n",
       "      <th>% 7d</th>\n",
       "    </tr>\n",
       "    <tr>\n",
       "      <th>Symbol</th>\n",
       "      <th></th>\n",
       "      <th></th>\n",
       "      <th></th>\n",
       "      <th></th>\n",
       "      <th></th>\n",
       "      <th></th>\n",
       "      <th></th>\n",
       "      <th></th>\n",
       "      <th></th>\n",
       "    </tr>\n",
       "  </thead>\n",
       "  <tbody>\n",
       "    <tr>\n",
       "      <th>ARNX</th>\n",
       "      <td>2158</td>\n",
       "      <td>Aeron</td>\n",
       "      <td>277,699.39000</td>\n",
       "      <td>0.01388</td>\n",
       "      <td>20,007,160.66282</td>\n",
       "      <td>NaN</td>\n",
       "      <td>32.59770</td>\n",
       "      <td>31.91010</td>\n",
       "      <td>90.00000</td>\n",
       "    </tr>\n",
       "    <tr>\n",
       "      <th>BTSC</th>\n",
       "      <td>3993</td>\n",
       "      <td>BTS Chain</td>\n",
       "      <td>NaN</td>\n",
       "      <td>1.13000</td>\n",
       "      <td>0.00000</td>\n",
       "      <td>NaN</td>\n",
       "      <td>-0.00010</td>\n",
       "      <td>0.56940</td>\n",
       "      <td>30.82030</td>\n",
       "    </tr>\n",
       "    <tr>\n",
       "      <th>ZIK</th>\n",
       "      <td>3858</td>\n",
       "      <td>Ziktalk</td>\n",
       "      <td>NaN</td>\n",
       "      <td>0.01555</td>\n",
       "      <td>0.00000</td>\n",
       "      <td>NaN</td>\n",
       "      <td>0.03390</td>\n",
       "      <td>0.56500</td>\n",
       "      <td>20.21650</td>\n",
       "    </tr>\n",
       "    <tr>\n",
       "      <th>STREAM</th>\n",
       "      <td>2542</td>\n",
       "      <td>Streamit Coin</td>\n",
       "      <td>44,644.71000</td>\n",
       "      <td>0.00330</td>\n",
       "      <td>13,528,700.00000</td>\n",
       "      <td>NaN</td>\n",
       "      <td>-0.00190</td>\n",
       "      <td>-0.02230</td>\n",
       "      <td>5.39330</td>\n",
       "    </tr>\n",
       "    <tr>\n",
       "      <th>MTH</th>\n",
       "      <td>1215</td>\n",
       "      <td>Monetha</td>\n",
       "      <td>4,365,865.60000</td>\n",
       "      <td>0.01085</td>\n",
       "      <td>402,383,926.26728</td>\n",
       "      <td>NaN</td>\n",
       "      <td>-0.00140</td>\n",
       "      <td>-0.01000</td>\n",
       "      <td>3.54220</td>\n",
       "    </tr>\n",
       "  </tbody>\n",
       "</table>\n",
       "</div>"
      ],
      "text/plain": [
       "        Rank           Name           Market Cap                Price  \\\n",
       "Symbol                                                                  \n",
       "ARNX    2158          Aeron        277,699.39000              0.01388   \n",
       "BTSC    3993      BTS Chain                  NaN              1.13000   \n",
       "ZIK     3858        Ziktalk                  NaN              0.01555   \n",
       "STREAM  2542  Streamit Coin         44,644.71000              0.00330   \n",
       "MTH     1215        Monetha      4,365,865.60000              0.01085   \n",
       "\n",
       "         Circulating Supply Volume (24h)                 % 1h  \\\n",
       "Symbol                                                          \n",
       "ARNX       20,007,160.66282          NaN             32.59770   \n",
       "BTSC                0.00000          NaN             -0.00010   \n",
       "ZIK                 0.00000          NaN              0.03390   \n",
       "STREAM     13,528,700.00000          NaN             -0.00190   \n",
       "MTH       402,383,926.26728          NaN             -0.00140   \n",
       "\n",
       "                      % 24h                 % 7d  \n",
       "Symbol                                            \n",
       "ARNX               31.91010             90.00000  \n",
       "BTSC                0.56940             30.82030  \n",
       "ZIK                 0.56500             20.21650  \n",
       "STREAM             -0.02230              5.39330  \n",
       "MTH                -0.01000              3.54220  "
      ]
     },
     "execution_count": 2,
     "metadata": {},
     "output_type": "execute_result"
    }
   ],
   "source": [
    "crypto = pd.read_excel(r\"C:\\Users\\GRACE ESTRADA\\Desktop\\march232022.xlsx\", index_col = 2)\n",
    "crypto.head()"
   ]
  },
  {
   "cell_type": "markdown",
   "id": "2b8d76b3",
   "metadata": {},
   "source": [
    "#### Counting the Number of Values"
   ]
  },
  {
   "cell_type": "code",
   "execution_count": 3,
   "id": "b1827331",
   "metadata": {},
   "outputs": [
    {
     "data": {
      "text/plain": [
       "Name          2255\n",
       "Market Cap    1952\n",
       "dtype: int64"
      ]
     },
     "execution_count": 3,
     "metadata": {},
     "output_type": "execute_result"
    }
   ],
   "source": [
    "crypto[['Name','Market Cap']].count()"
   ]
  },
  {
   "cell_type": "markdown",
   "id": "6bdef366",
   "metadata": {},
   "source": [
    "## Discard the cryptocurrencies without a market capitalization\n",
    "<p>Why do the <code>count()</code> for <code>Name</code> and <code>Market Cap</code> differ above? It is because some cryptocurrencies listed in coinmarketcap.com have no known market capitalization, this is represented by <code>NaN</code> in the data, and <code>NaN</code>s are not counted by <code>count()</code>. These cryptocurrencies are of little interest to us in this analysis, so they are safe to remove.</p>"
   ]
  },
  {
   "cell_type": "markdown",
   "id": "6ac0c6e8",
   "metadata": {},
   "source": [
    "#### Data Wrangling"
   ]
  },
  {
   "cell_type": "code",
   "execution_count": 4,
   "id": "be3b5de6",
   "metadata": {},
   "outputs": [],
   "source": [
    "#Removing crypto coins without capitalization\n",
    "crypto = crypto[crypto['Market Cap'] > 0]\n",
    "\n",
    "#Converting %change columns\n",
    "crypto[['% 1h', '% 24h', '% 7d']] = crypto[['% 1h', '% 24h', '% 7d']] * 100\n",
    "crypto.head()\n",
    "\n",
    "#Selecting Market Cap data\n",
    "market_cap = crypto[['Market Cap']]"
   ]
  },
  {
   "cell_type": "markdown",
   "id": "9a031b6e",
   "metadata": {},
   "source": [
    "## How big is Bitcoin compared with the rest of the cryptocurrencies?\n",
    "<p>At the time of writing, Bitcoin is under serious competition from other projects, but it is still dominant in market capitalization. Let's plot the market capitalization for the top 10 coins as a barplot to better visualize this.</p>"
   ]
  },
  {
   "cell_type": "markdown",
   "id": "9d341e52",
   "metadata": {},
   "source": [
    "#### Preparing the DataFrame"
   ]
  },
  {
   "cell_type": "code",
   "execution_count": 5,
   "id": "20423942",
   "metadata": {},
   "outputs": [],
   "source": [
    "# Selecting the first 10 rows\n",
    "top = market_cap.sort_values('Market Cap', ascending = False).head(10)\n",
    "\n",
    "# Calculating market_cap_perc\n",
    "top = top.assign(Percent = lambda x: top['Market Cap'] /top['Market Cap'].sum()) * 100"
   ]
  },
  {
   "cell_type": "markdown",
   "id": "cf48209a",
   "metadata": {},
   "source": [
    "#### Data Visualization"
   ]
  },
  {
   "cell_type": "code",
   "execution_count": 6,
   "id": "b36f2e8e",
   "metadata": {},
   "outputs": [
    {
     "data": {
      "image/png": "[encoded data removed]",
      "text/plain": [
       "<Figure size 1152x432 with 1 Axes>"
      ]
     },
     "metadata": {
      "needs_background": "light"
     },
     "output_type": "display_data"
    }
   ],
   "source": [
    "# Plotting the barplot \n",
    "ax = top['Percent'].plot(kind = 'bar', fontsize = 10, rot = 360, figsize = (16, 6), color = 'steelblue')\n",
    "\n",
    "# Labelling the barplot\n",
    "ax.set_title('Top 10 Market Capitalization', fontsize = 15)\n",
    "ax.set_ylabel('% Over Total', fontsize = 15)\n",
    "ax.set_xlabel('Cryptocurrencies', fontsize = 15)\n",
    "ax.legend(fontsize = 8)\n",
    "\n",
    "plt.show()"
   ]
  },
  {
   "cell_type": "markdown",
   "id": "b03f201b",
   "metadata": {},
   "source": [
    "## What is going on?! Volatility in cryptocurrencies\n",
    "<p>The cryptocurrencies market has been spectacularly volatile since the first exchange opened. This notebook didn't start with a big, bold warning for nothing. Let's explore this volatility a bit more! We will begin by selecting and plotting the 24 hours and 7 days percentage change, which we already have available.</p>"
   ]
  },
  {
   "cell_type": "markdown",
   "id": "2c3ec6dc",
   "metadata": {},
   "source": [
    "#### Preparing the Volatility DataFrame"
   ]
  },
  {
   "cell_type": "code",
   "execution_count": 7,
   "id": "3a17b26b",
   "metadata": {},
   "outputs": [],
   "source": [
    "# Selecting the id, percent_change_24h and percent_change_7d columns\n",
    "volatility_24hours = crypto[['Name','Market Cap','Price','% 24h']]\n",
    "volatility_7days = crypto[['Name','Market Cap','Price','% 7d']]\n",
    "\n",
    "# Sorting the DataFrames in ascending order\n",
    "volatility_24hours = volatility_24hours.sort_values('% 24h',ascending = False)\n",
    "volatility_7days = volatility_7days.sort_values('% 7d', ascending = False)"
   ]
  },
  {
   "cell_type": "code",
   "execution_count": 8,
   "id": "bf534f3b",
   "metadata": {},
   "outputs": [
    {
     "data": {
      "text/html": [
       "<div>\n",
       "<style scoped>\n",
       "    .dataframe tbody tr th:only-of-type {\n",
       "        vertical-align: middle;\n",
       "    }\n",
       "\n",
       "    .dataframe tbody tr th {\n",
       "        vertical-align: top;\n",
       "    }\n",
       "\n",
       "    .dataframe thead th {\n",
       "        text-align: right;\n",
       "    }\n",
       "</style>\n",
       "<table border=\"1\" class=\"dataframe\">\n",
       "  <thead>\n",
       "    <tr style=\"text-align: right;\">\n",
       "      <th></th>\n",
       "      <th>Name</th>\n",
       "      <th>Market Cap</th>\n",
       "      <th>Price</th>\n",
       "      <th>% 24h</th>\n",
       "    </tr>\n",
       "    <tr>\n",
       "      <th>Symbol</th>\n",
       "      <th></th>\n",
       "      <th></th>\n",
       "      <th></th>\n",
       "      <th></th>\n",
       "    </tr>\n",
       "  </thead>\n",
       "  <tbody>\n",
       "    <tr>\n",
       "      <th>ARNX</th>\n",
       "      <td>Aeron</td>\n",
       "      <td>277,699.39000</td>\n",
       "      <td>0.01388</td>\n",
       "      <td>3,191.01000</td>\n",
       "    </tr>\n",
       "    <tr>\n",
       "      <th>NOTE</th>\n",
       "      <td>DNotes</td>\n",
       "      <td>31,714.06000</td>\n",
       "      <td>0.00023</td>\n",
       "      <td>298.55000</td>\n",
       "    </tr>\n",
       "    <tr>\n",
       "      <th>OWC</th>\n",
       "      <td>ODUWA</td>\n",
       "      <td>1,376,767.52000</td>\n",
       "      <td>0.32870</td>\n",
       "      <td>167.77000</td>\n",
       "    </tr>\n",
       "    <tr>\n",
       "      <th>RNT</th>\n",
       "      <td>OneRoot Network</td>\n",
       "      <td>1,135,956.38000</td>\n",
       "      <td>0.00400</td>\n",
       "      <td>132.99000</td>\n",
       "    </tr>\n",
       "    <tr>\n",
       "      <th>BUZZ</th>\n",
       "      <td>BUZZCoin</td>\n",
       "      <td>545,039.22000</td>\n",
       "      <td>0.00003</td>\n",
       "      <td>120.76000</td>\n",
       "    </tr>\n",
       "  </tbody>\n",
       "</table>\n",
       "</div>"
      ],
      "text/plain": [
       "                   Name           Market Cap                Price  \\\n",
       "Symbol                                                              \n",
       "ARNX              Aeron        277,699.39000              0.01388   \n",
       "NOTE             DNotes         31,714.06000              0.00023   \n",
       "OWC               ODUWA      1,376,767.52000              0.32870   \n",
       "RNT     OneRoot Network      1,135,956.38000              0.00400   \n",
       "BUZZ           BUZZCoin        545,039.22000              0.00003   \n",
       "\n",
       "                      % 24h  \n",
       "Symbol                       \n",
       "ARNX            3,191.01000  \n",
       "NOTE              298.55000  \n",
       "OWC               167.77000  \n",
       "RNT               132.99000  \n",
       "BUZZ              120.76000  "
      ]
     },
     "execution_count": 8,
     "metadata": {},
     "output_type": "execute_result"
    }
   ],
   "source": [
    "# Checking the first few rows\n",
    "volatility_24hours.head()"
   ]
  },
  {
   "cell_type": "code",
   "execution_count": 9,
   "id": "4ddb05a6",
   "metadata": {},
   "outputs": [
    {
     "data": {
      "text/html": [
       "<div>\n",
       "<style scoped>\n",
       "    .dataframe tbody tr th:only-of-type {\n",
       "        vertical-align: middle;\n",
       "    }\n",
       "\n",
       "    .dataframe tbody tr th {\n",
       "        vertical-align: top;\n",
       "    }\n",
       "\n",
       "    .dataframe thead th {\n",
       "        text-align: right;\n",
       "    }\n",
       "</style>\n",
       "<table border=\"1\" class=\"dataframe\">\n",
       "  <thead>\n",
       "    <tr style=\"text-align: right;\">\n",
       "      <th></th>\n",
       "      <th>Name</th>\n",
       "      <th>Market Cap</th>\n",
       "      <th>Price</th>\n",
       "      <th>% 7d</th>\n",
       "    </tr>\n",
       "    <tr>\n",
       "      <th>Symbol</th>\n",
       "      <th></th>\n",
       "      <th></th>\n",
       "      <th></th>\n",
       "      <th></th>\n",
       "    </tr>\n",
       "  </thead>\n",
       "  <tbody>\n",
       "    <tr>\n",
       "      <th>ARNX</th>\n",
       "      <td>Aeron</td>\n",
       "      <td>277,699.39000</td>\n",
       "      <td>0.01388</td>\n",
       "      <td>9,000.00000</td>\n",
       "    </tr>\n",
       "    <tr>\n",
       "      <th>STREAM</th>\n",
       "      <td>Streamit Coin</td>\n",
       "      <td>44,644.71000</td>\n",
       "      <td>0.00330</td>\n",
       "      <td>539.33000</td>\n",
       "    </tr>\n",
       "    <tr>\n",
       "      <th>MTH</th>\n",
       "      <td>Monetha</td>\n",
       "      <td>4,365,865.60000</td>\n",
       "      <td>0.01085</td>\n",
       "      <td>354.22000</td>\n",
       "    </tr>\n",
       "    <tr>\n",
       "      <th>SATT</th>\n",
       "      <td>SaTT</td>\n",
       "      <td>9,286,460.64000</td>\n",
       "      <td>0.00286</td>\n",
       "      <td>347.66000</td>\n",
       "    </tr>\n",
       "    <tr>\n",
       "      <th>CSTL</th>\n",
       "      <td>Castle</td>\n",
       "      <td>93,161.50000</td>\n",
       "      <td>0.00417</td>\n",
       "      <td>307.66000</td>\n",
       "    </tr>\n",
       "  </tbody>\n",
       "</table>\n",
       "</div>"
      ],
      "text/plain": [
       "                 Name           Market Cap                Price  \\\n",
       "Symbol                                                            \n",
       "ARNX            Aeron        277,699.39000              0.01388   \n",
       "STREAM  Streamit Coin         44,644.71000              0.00330   \n",
       "MTH           Monetha      4,365,865.60000              0.01085   \n",
       "SATT             SaTT      9,286,460.64000              0.00286   \n",
       "CSTL           Castle         93,161.50000              0.00417   \n",
       "\n",
       "                       % 7d  \n",
       "Symbol                       \n",
       "ARNX            9,000.00000  \n",
       "STREAM            539.33000  \n",
       "MTH               354.22000  \n",
       "SATT              347.66000  \n",
       "CSTL              307.66000  "
      ]
     },
     "execution_count": 9,
     "metadata": {},
     "output_type": "execute_result"
    }
   ],
   "source": [
    "# Checking the first few rows\n",
    "volatility_7days.head()"
   ]
  },
  {
   "cell_type": "markdown",
   "id": "cd1f3139",
   "metadata": {},
   "source": [
    "## Well, we can already see that things are *a bit* crazy\n",
    "<p>It seems you can lose a lot of money quickly on cryptocurrencies. Let's plot the top 10 biggest gainers and top 10 losers in market capitalization.</p>"
   ]
  },
  {
   "cell_type": "markdown",
   "id": "6fc64425",
   "metadata": {},
   "source": [
    "#### Create a Data Visualization Function"
   ]
  },
  {
   "cell_type": "code",
   "execution_count": 23,
   "id": "4e714b99",
   "metadata": {},
   "outputs": [],
   "source": [
    "#Defining a function with 2 parameters, the series to plot and the title\n",
    "\n",
    "def top10_subplot(volatility_series, title):\n",
    "    # Making the subplot and the figure for two side by side plots\n",
    "    fig, ax = plt.subplots(nrows=1, ncols=2, figsize=(16, 7))\n",
    "    \n",
    "    \n",
    "    # Plotting with pandas the barchart for the top 10 losers\n",
    "    volatility_series[:10].plot.bar(ax = ax[0], color = 'darkblue', rot = 45)\n",
    "    \n",
    "    # Setting the labels\n",
    "    ax[0].set_ylabel('% change')\n",
    "    ax[0].set_xlabel('')\n",
    "    \n",
    "    # Same as above, but for the top 10 winners\n",
    "    volatility_series[-10:].plot.bar(ax = ax[1], color = 'darkred', rot = 45).invert_yaxis()\n",
    "    \n",
    "    # Setting the Setting the labels\n",
    "    ax[1].set_ylabel('% change')\n",
    "    ax[1].set_xlabel('')\n",
    "    \n",
    "    # Setting the figure's main title to the text passed as parameter\n",
    "    fig.suptitle(title, y = .95)\n",
    "    \n",
    "    # Returning this for good practice, might use later\n",
    "    return fig, ax"
   ]
  },
  {
   "cell_type": "markdown",
   "id": "724aa9ca",
   "metadata": {},
   "source": [
    "#### Daily Series"
   ]
  },
  {
   "cell_type": "code",
   "execution_count": 24,
   "id": "62052682",
   "metadata": {},
   "outputs": [
    {
     "data": {
      "image/png": "[encoded data removed]",
      "text/plain": [
       "<Figure size 1152x504 with 2 Axes>"
      ]
     },
     "metadata": {
      "needs_background": "light"
     },
     "output_type": "display_data"
    }
   ],
   "source": [
    "fig, ax = top10_subplot(volatility_24hours['% 24h'], title = \"24 Hours Top Winners and Losers\")"
   ]
  },
  {
   "cell_type": "markdown",
   "id": "76489a1a",
   "metadata": {},
   "source": [
    "## 7. Ok, those are... interesting. Let's check the weekly Series too.\n",
    "<p>3000% daily increase?! Why are we doing this tutorial and not buying random coins?<sup>1</sup></p>\n",
    "<p>After calming down, let's reuse the function defined above to see what is going weekly instead of daily.</p>\n",
    "<p><em><sup>1</sup> Please take a moment to understand the implications of the red plots on how much value some cryptocurrencies lose in such short periods of time</em></p>"
   ]
  },
  {
   "cell_type": "markdown",
   "id": "fb3045a1",
   "metadata": {},
   "source": [
    "#### Weekly Series"
   ]
  },
  {
   "cell_type": "code",
   "execution_count": 25,
   "id": "60b5d568",
   "metadata": {},
   "outputs": [
    {
     "data": {
      "image/png": "[encoded data removed]",
      "text/plain": [
       "<Figure size 1152x504 with 2 Axes>"
      ]
     },
     "metadata": {
      "needs_background": "light"
     },
     "output_type": "display_data"
    }
   ],
   "source": [
    "fig, ax = top10_subplot(volatility_7days['% 7d'], title = \"24 Hours Top Winners and Losers\")"
   ]
  },
  {
   "cell_type": "markdown",
   "id": "2109624b",
   "metadata": {},
   "source": [
    "## 8. How small is small?\n",
    "<p>The names of the cryptocurrencies above are quite unknown, and there is a considerable fluctuation between the 1 and 7 days percentage changes. As with stocks, and many other financial products, the smaller the capitalization, the bigger the risk and reward. Smaller cryptocurrencies are less stable projects in general, and therefore even riskier investments than the bigger ones<sup>1</sup>. Let's classify our dataset based on Investopedia's capitalization <a href=\"https://www.investopedia.com/video/play/large-cap/\">definitions</a> for company stocks. </p>\n",
    "<p><sup>1</sup> <em>Cryptocurrencies are a new asset class, so they are not directly comparable to stocks. Furthermore, there are no limits set in stone for what a \"small\" or \"large\" stock is. Finally, some investors argue that bitcoin is similar to gold, this would make them more comparable to a <a href=\"https://www.investopedia.com/terms/c/commodity.asp\">commodity</a> instead.</em></p>"
   ]
  },
  {
   "cell_type": "markdown",
   "id": "d062780b",
   "metadata": {},
   "source": [
    "#### Cryptocurrencies with Market Capitalization greater than USD10B"
   ]
  },
  {
   "cell_type": "code",
   "execution_count": 13,
   "id": "164a3115",
   "metadata": {},
   "outputs": [
    {
     "data": {
      "text/html": [
       "<div>\n",
       "<style scoped>\n",
       "    .dataframe tbody tr th:only-of-type {\n",
       "        vertical-align: middle;\n",
       "    }\n",
       "\n",
       "    .dataframe tbody tr th {\n",
       "        vertical-align: top;\n",
       "    }\n",
       "\n",
       "    .dataframe thead th {\n",
       "        text-align: right;\n",
       "    }\n",
       "</style>\n",
       "<table border=\"1\" class=\"dataframe\">\n",
       "  <thead>\n",
       "    <tr style=\"text-align: right;\">\n",
       "      <th></th>\n",
       "      <th>Rank</th>\n",
       "      <th>Name</th>\n",
       "      <th>Market Cap</th>\n",
       "      <th>Price</th>\n",
       "      <th>Circulating Supply</th>\n",
       "      <th>Volume (24h)</th>\n",
       "      <th>% 1h</th>\n",
       "      <th>% 24h</th>\n",
       "      <th>% 7d</th>\n",
       "    </tr>\n",
       "    <tr>\n",
       "      <th>Symbol</th>\n",
       "      <th></th>\n",
       "      <th></th>\n",
       "      <th></th>\n",
       "      <th></th>\n",
       "      <th></th>\n",
       "      <th></th>\n",
       "      <th></th>\n",
       "      <th></th>\n",
       "      <th></th>\n",
       "    </tr>\n",
       "  </thead>\n",
       "  <tbody>\n",
       "    <tr>\n",
       "      <th>AVAX</th>\n",
       "      <td>10</td>\n",
       "      <td>Avalanche</td>\n",
       "      <td>22,636,838,970.73000</td>\n",
       "      <td>84.72000</td>\n",
       "      <td>267,195,927.41655</td>\n",
       "      <td>1,451,610,365.09000</td>\n",
       "      <td>-2.06000</td>\n",
       "      <td>-5.54000</td>\n",
       "      <td>24.46000</td>\n",
       "    </tr>\n",
       "    <tr>\n",
       "      <th>ETH</th>\n",
       "      <td>2</td>\n",
       "      <td>Ethereum</td>\n",
       "      <td>343,377,833,604.29999</td>\n",
       "      <td>2,860.46000</td>\n",
       "      <td>120,042,871.98713</td>\n",
       "      <td>12,684,727,326.19000</td>\n",
       "      <td>-0.38000</td>\n",
       "      <td>-2.91000</td>\n",
       "      <td>13.56000</td>\n",
       "    </tr>\n",
       "    <tr>\n",
       "      <th>SOL</th>\n",
       "      <td>9</td>\n",
       "      <td>Solana</td>\n",
       "      <td>28,388,486,843.57000</td>\n",
       "      <td>88.61000</td>\n",
       "      <td>320,375,655.60964</td>\n",
       "      <td>1,286,133,602.74000</td>\n",
       "      <td>-0.72000</td>\n",
       "      <td>-4.12000</td>\n",
       "      <td>12.26000</td>\n",
       "    </tr>\n",
       "    <tr>\n",
       "      <th>ADA</th>\n",
       "      <td>8</td>\n",
       "      <td>Cardano</td>\n",
       "      <td>29,569,834,894.15000</td>\n",
       "      <td>0.87710</td>\n",
       "      <td>33,713,185,376.98096</td>\n",
       "      <td>949,951,338.78000</td>\n",
       "      <td>-0.69000</td>\n",
       "      <td>-2.66000</td>\n",
       "      <td>10.88000</td>\n",
       "    </tr>\n",
       "    <tr>\n",
       "      <th>BTC</th>\n",
       "      <td>1</td>\n",
       "      <td>Bitcoin</td>\n",
       "      <td>783,260,570,383.75000</td>\n",
       "      <td>41,247.82000</td>\n",
       "      <td>18,989,138.58681</td>\n",
       "      <td>20,127,946,682.25000</td>\n",
       "      <td>-0.19000</td>\n",
       "      <td>-2.23000</td>\n",
       "      <td>8.98000</td>\n",
       "    </tr>\n",
       "    <tr>\n",
       "      <th>WBTC</th>\n",
       "      <td>17</td>\n",
       "      <td>Wrapped Bitcoin</td>\n",
       "      <td>11,253,279,811.45000</td>\n",
       "      <td>41,208.58000</td>\n",
       "      <td>273,080.98972</td>\n",
       "      <td>101,121,200.38000</td>\n",
       "      <td>-0.16000</td>\n",
       "      <td>-2.18000</td>\n",
       "      <td>8.84000</td>\n",
       "    </tr>\n",
       "    <tr>\n",
       "      <th>DOT</th>\n",
       "      <td>11</td>\n",
       "      <td>Polkadot</td>\n",
       "      <td>18,407,139,481.67000</td>\n",
       "      <td>18.64000</td>\n",
       "      <td>987,507,482.92221</td>\n",
       "      <td>688,372,540.70000</td>\n",
       "      <td>-0.41000</td>\n",
       "      <td>-3.72000</td>\n",
       "      <td>8.06000</td>\n",
       "    </tr>\n",
       "    <tr>\n",
       "      <th>BNB</th>\n",
       "      <td>4</td>\n",
       "      <td>BNB</td>\n",
       "      <td>64,522,408,664.10000</td>\n",
       "      <td>390.77000</td>\n",
       "      <td>165,116,075.09302</td>\n",
       "      <td>1,334,193,470.70000</td>\n",
       "      <td>-0.49000</td>\n",
       "      <td>-2.27000</td>\n",
       "      <td>7.99000</td>\n",
       "    </tr>\n",
       "    <tr>\n",
       "      <th>CRO</th>\n",
       "      <td>18</td>\n",
       "      <td>Cronos</td>\n",
       "      <td>10,245,494,361.34000</td>\n",
       "      <td>0.40560</td>\n",
       "      <td>25,260,094,579.24063</td>\n",
       "      <td>51,511,613.13000</td>\n",
       "      <td>-0.42000</td>\n",
       "      <td>-2.97000</td>\n",
       "      <td>7.58000</td>\n",
       "    </tr>\n",
       "    <tr>\n",
       "      <th>MATIC</th>\n",
       "      <td>16</td>\n",
       "      <td>Polygon</td>\n",
       "      <td>11,266,425,868.33000</td>\n",
       "      <td>1.46000</td>\n",
       "      <td>7,716,730,046.80137</td>\n",
       "      <td>526,734,391.40000</td>\n",
       "      <td>-0.90000</td>\n",
       "      <td>-4.20000</td>\n",
       "      <td>7.41000</td>\n",
       "    </tr>\n",
       "    <tr>\n",
       "      <th>SHIB</th>\n",
       "      <td>15</td>\n",
       "      <td>Shiba Inu</td>\n",
       "      <td>12,697,232,753.07000</td>\n",
       "      <td>0.00002</td>\n",
       "      <td>548,950,832,385,214.00000</td>\n",
       "      <td>1,176,567,440.11000</td>\n",
       "      <td>0.38000</td>\n",
       "      <td>-4.27000</td>\n",
       "      <td>7.27000</td>\n",
       "    </tr>\n",
       "    <tr>\n",
       "      <th>DOGE</th>\n",
       "      <td>13</td>\n",
       "      <td>Dogecoin</td>\n",
       "      <td>15,808,231,747.90000</td>\n",
       "      <td>0.11920</td>\n",
       "      <td>132,619,393,858.22147</td>\n",
       "      <td>428,111,799.40000</td>\n",
       "      <td>-0.30000</td>\n",
       "      <td>-3.57000</td>\n",
       "      <td>6.76000</td>\n",
       "    </tr>\n",
       "    <tr>\n",
       "      <th>XRP</th>\n",
       "      <td>6</td>\n",
       "      <td>XRP</td>\n",
       "      <td>38,791,824,340.83000</td>\n",
       "      <td>0.80610</td>\n",
       "      <td>48,122,843,742.50093</td>\n",
       "      <td>1,529,598,149.17000</td>\n",
       "      <td>-0.19000</td>\n",
       "      <td>-1.62000</td>\n",
       "      <td>5.88000</td>\n",
       "    </tr>\n",
       "    <tr>\n",
       "      <th>LUNA</th>\n",
       "      <td>7</td>\n",
       "      <td>Terra</td>\n",
       "      <td>33,016,693,268.72000</td>\n",
       "      <td>90.53000</td>\n",
       "      <td>364,704,443.48525</td>\n",
       "      <td>1,843,608,272.45000</td>\n",
       "      <td>-0.54000</td>\n",
       "      <td>-1.71000</td>\n",
       "      <td>3.33000</td>\n",
       "    </tr>\n",
       "    <tr>\n",
       "      <th>UST</th>\n",
       "      <td>14</td>\n",
       "      <td>TerraUSD</td>\n",
       "      <td>15,439,586,892.30000</td>\n",
       "      <td>1.00000</td>\n",
       "      <td>15,439,586,892.30000</td>\n",
       "      <td>330,755,661.22000</td>\n",
       "      <td>0.01000</td>\n",
       "      <td>-0.02000</td>\n",
       "      <td>0.08000</td>\n",
       "    </tr>\n",
       "    <tr>\n",
       "      <th>USDT</th>\n",
       "      <td>3</td>\n",
       "      <td>Tether</td>\n",
       "      <td>80,781,817,395.21001</td>\n",
       "      <td>1.00000</td>\n",
       "      <td>80,781,817,395.21001</td>\n",
       "      <td>57,837,125,338.33000</td>\n",
       "      <td>-0.01000</td>\n",
       "      <td>-0.01000</td>\n",
       "      <td>0.02000</td>\n",
       "    </tr>\n",
       "    <tr>\n",
       "      <th>USDC</th>\n",
       "      <td>5</td>\n",
       "      <td>USD Coin</td>\n",
       "      <td>53,000,906,379.47000</td>\n",
       "      <td>0.99990</td>\n",
       "      <td>53,006,207,000.17002</td>\n",
       "      <td>2,943,598,189.66000</td>\n",
       "      <td>-0.02000</td>\n",
       "      <td>0.02000</td>\n",
       "      <td>0.00000</td>\n",
       "    </tr>\n",
       "    <tr>\n",
       "      <th>BUSD</th>\n",
       "      <td>12</td>\n",
       "      <td>Binance USD</td>\n",
       "      <td>17,794,988,349.19000</td>\n",
       "      <td>0.99940</td>\n",
       "      <td>17,805,671,752.24134</td>\n",
       "      <td>5,103,760,410.67000</td>\n",
       "      <td>-0.18000</td>\n",
       "      <td>-0.16000</td>\n",
       "      <td>-0.09000</td>\n",
       "    </tr>\n",
       "    <tr>\n",
       "      <th>HEX</th>\n",
       "      <td>201</td>\n",
       "      <td>HEX</td>\n",
       "      <td>20,299,657,914.95000</td>\n",
       "      <td>0.11710</td>\n",
       "      <td>173,353,184,585.39709</td>\n",
       "      <td>14,845,840.32000</td>\n",
       "      <td>-0.46000</td>\n",
       "      <td>-3.08000</td>\n",
       "      <td>-2.99000</td>\n",
       "    </tr>\n",
       "  </tbody>\n",
       "</table>\n",
       "</div>"
      ],
      "text/plain": [
       "        Rank             Name            Market Cap                Price  \\\n",
       "Symbol                                                                     \n",
       "AVAX      10        Avalanche  22,636,838,970.73000             84.72000   \n",
       "ETH        2         Ethereum 343,377,833,604.29999          2,860.46000   \n",
       "SOL        9           Solana  28,388,486,843.57000             88.61000   \n",
       "ADA        8          Cardano  29,569,834,894.15000              0.87710   \n",
       "BTC        1          Bitcoin 783,260,570,383.75000         41,247.82000   \n",
       "WBTC      17  Wrapped Bitcoin  11,253,279,811.45000         41,208.58000   \n",
       "DOT       11         Polkadot  18,407,139,481.67000             18.64000   \n",
       "BNB        4              BNB  64,522,408,664.10000            390.77000   \n",
       "CRO       18           Cronos  10,245,494,361.34000              0.40560   \n",
       "MATIC     16          Polygon  11,266,425,868.33000              1.46000   \n",
       "SHIB      15        Shiba Inu  12,697,232,753.07000              0.00002   \n",
       "DOGE      13         Dogecoin  15,808,231,747.90000              0.11920   \n",
       "XRP        6              XRP  38,791,824,340.83000              0.80610   \n",
       "LUNA       7            Terra  33,016,693,268.72000             90.53000   \n",
       "UST       14         TerraUSD  15,439,586,892.30000              1.00000   \n",
       "USDT       3           Tether  80,781,817,395.21001              1.00000   \n",
       "USDC       5         USD Coin  53,000,906,379.47000              0.99990   \n",
       "BUSD      12      Binance USD  17,794,988,349.19000              0.99940   \n",
       "HEX      201              HEX  20,299,657,914.95000              0.11710   \n",
       "\n",
       "              Circulating Supply         Volume (24h)                 % 1h  \\\n",
       "Symbol                                                                       \n",
       "AVAX           267,195,927.41655  1,451,610,365.09000             -2.06000   \n",
       "ETH            120,042,871.98713 12,684,727,326.19000             -0.38000   \n",
       "SOL            320,375,655.60964  1,286,133,602.74000             -0.72000   \n",
       "ADA         33,713,185,376.98096    949,951,338.78000             -0.69000   \n",
       "BTC             18,989,138.58681 20,127,946,682.25000             -0.19000   \n",
       "WBTC               273,080.98972    101,121,200.38000             -0.16000   \n",
       "DOT            987,507,482.92221    688,372,540.70000             -0.41000   \n",
       "BNB            165,116,075.09302  1,334,193,470.70000             -0.49000   \n",
       "CRO         25,260,094,579.24063     51,511,613.13000             -0.42000   \n",
       "MATIC        7,716,730,046.80137    526,734,391.40000             -0.90000   \n",
       "SHIB   548,950,832,385,214.00000  1,176,567,440.11000              0.38000   \n",
       "DOGE       132,619,393,858.22147    428,111,799.40000             -0.30000   \n",
       "XRP         48,122,843,742.50093  1,529,598,149.17000             -0.19000   \n",
       "LUNA           364,704,443.48525  1,843,608,272.45000             -0.54000   \n",
       "UST         15,439,586,892.30000    330,755,661.22000              0.01000   \n",
       "USDT        80,781,817,395.21001 57,837,125,338.33000             -0.01000   \n",
       "USDC        53,006,207,000.17002  2,943,598,189.66000             -0.02000   \n",
       "BUSD        17,805,671,752.24134  5,103,760,410.67000             -0.18000   \n",
       "HEX        173,353,184,585.39709     14,845,840.32000             -0.46000   \n",
       "\n",
       "                      % 24h                 % 7d  \n",
       "Symbol                                            \n",
       "AVAX               -5.54000             24.46000  \n",
       "ETH                -2.91000             13.56000  \n",
       "SOL                -4.12000             12.26000  \n",
       "ADA                -2.66000             10.88000  \n",
       "BTC                -2.23000              8.98000  \n",
       "WBTC               -2.18000              8.84000  \n",
       "DOT                -3.72000              8.06000  \n",
       "BNB                -2.27000              7.99000  \n",
       "CRO                -2.97000              7.58000  \n",
       "MATIC              -4.20000              7.41000  \n",
       "SHIB               -4.27000              7.27000  \n",
       "DOGE               -3.57000              6.76000  \n",
       "XRP                -1.62000              5.88000  \n",
       "LUNA               -1.71000              3.33000  \n",
       "UST                -0.02000              0.08000  \n",
       "USDT               -0.01000              0.02000  \n",
       "USDC                0.02000              0.00000  \n",
       "BUSD               -0.16000             -0.09000  \n",
       "HEX                -3.08000             -2.99000  "
      ]
     },
     "execution_count": 13,
     "metadata": {},
     "output_type": "execute_result"
    }
   ],
   "source": [
    "largecaps = crypto[crypto['Market Cap'] > 10000000000]\n",
    "largecaps"
   ]
  },
  {
   "cell_type": "markdown",
   "id": "2f311a43",
   "metadata": {},
   "source": [
    "## Most coins are tiny!\n",
    "<p>Note that many coins are not comparable to large companies in market cap, so let's divert from the original Investopedia definition by merging categories.</p>"
   ]
  },
  {
   "cell_type": "markdown",
   "id": "12689418",
   "metadata": {},
   "source": [
    "#### Visualization of Coins per Classification"
   ]
  },
  {
   "cell_type": "code",
   "execution_count": 26,
   "id": "95be0da8",
   "metadata": {},
   "outputs": [
    {
     "data": {
      "image/png": "[encoded data removed]",
      "text/plain": [
       "<Figure size 1152x576 with 1 Axes>"
      ]
     },
     "metadata": {
      "needs_background": "light"
     },
     "output_type": "display_data"
    }
   ],
   "source": [
    "# Count of crypto coins per classification\n",
    "biggish = crypto[crypto['Market Cap'] >= 300000000].shape[0]\n",
    "\n",
    "# Same as above for micro ...\n",
    "micro = crypto[(crypto['Market Cap'] > 50000000) & (crypto['Market Cap'] < 300000000)].shape[0]\n",
    "\n",
    "# ... and for nano\n",
    "nano = crypto[crypto['Market Cap'] < 50000000].shape[0]\n",
    "\n",
    "# Making a list with the 3 counts\n",
    "values = list([biggish, micro, nano]) \n",
    "\n",
    "# Labels for the plot\n",
    "labels = [\"biggish\", \"micro\", \"nano\"]\n",
    "\n",
    "# Plotting them with matplotlib \n",
    "plt.rcParams[\"figure.figsize\"] = (16,8)\n",
    "plt.bar(labels, values)\n",
    "plt.title('Crypto Coins Distribution per Marketcap Class')\n",
    "plt.show()"
   ]
  },
  {
   "cell_type": "markdown",
   "id": "6e51b1d2",
   "metadata": {},
   "source": [
    "## 75% of crypto coins are considered Nano!"
   ]
  },
  {
   "cell_type": "markdown",
   "id": "5c45a3bf",
   "metadata": {},
   "source": [
    "As the chart suggests, 75% of crypto coins have a capitalization of less than 50 Million USD.\n",
    "Before investing in cryptocurrencies, always remember that smaller cryptocurrencies are less stable projects in general, and therefore even riskier investments than the bigger ones.\n",
    "\n",
    "Though there may be chances that investing in nano coins will render greater rewards, the probability of it failing is almost as likely.\n",
    "There are many factors to consider before one can forecast the value of a crypto coin, but it is worth exploring. It might be the topic for my next study. See ya! ;)"
   ]
  }
 ],
 "metadata": {
  "kernelspec": {
   "display_name": "Python 3",
   "language": "python",
   "name": "python3"
  },
  "language_info": {
   "codemirror_mode": {
    "name": "ipython",
    "version": 3
   },
   "file_extension": ".py",
   "mimetype": "text/x-python",
   "name": "python",
   "nbconvert_exporter": "python",
   "pygments_lexer": "ipython3",
   "version": "3.8.8"
  }
 },
 "nbformat": 4,
 "nbformat_minor": 5
}
